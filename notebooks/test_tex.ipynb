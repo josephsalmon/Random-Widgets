{
 "cells": [
  {
   "cell_type": "code",
   "execution_count": 1,
   "metadata": {},
   "outputs": [
    {
     "name": "stdout",
     "output_type": "stream",
     "text": [
      "3.3.2   7.5.1   0.5.8\n"
     ]
    }
   ],
   "source": [
    "import matplotlib.pyplot as plt\n",
    "import numpy as np\n",
    "\n",
    "# from matplotlib import rcParams\n",
    "# rcParams['text.usetex'] = False\n",
    "# rcParams['text.latex.preamble'] = r'\\usepackage{{amsmath}}'\n",
    "plt.ion()\n",
    "\n",
    "import matplotlib\n",
    "import ipywidgets\n",
    "import ipympl\n",
    "print(matplotlib.__version__,' ', ipywidgets.__version__, ' ' , ipympl.__version__)"
   ]
  },
  {
   "cell_type": "code",
   "execution_count": 2,
   "metadata": {},
   "outputs": [],
   "source": [
    "%matplotlib widget"
   ]
  },
  {
   "cell_type": "code",
   "execution_count": 6,
   "metadata": {},
   "outputs": [
    {
     "data": {
      "application/vnd.jupyter.widget-view+json": {
       "model_id": "1dfd7067a6844e0d885128ed8a4c0e1e",
       "version_major": 2,
       "version_minor": 0
      },
      "text/plain": [
       "Canvas(toolbar=Toolbar(toolitems=[('Home', 'Reset original view', 'home', 'home'), ('Back', 'Back to previous …"
      ]
     },
     "metadata": {},
     "output_type": "display_data"
    }
   ],
   "source": [
    "fig, ax = plt.subplots(1, 2, figsize=(6.8, 4.4))\n",
    "\n",
    "\n",
    "x = np.linspace(1,100,10)\n",
    "ax[0].plot(x,x)\n",
    "ax[1].plot(x,x**2)\n",
    "\n",
    "# tex = r\"$\\Sigma = \\begin{{pmatrix}} {sig11:.2f} & {sig12:.2f} \\\\   {sig21:.2f} & {sig22:.2f} \\end{{pmatrix}}$\".format(sig11=1.1,\n",
    "#                                                                             sig12=1.2,\n",
    "#                                                                             sig21=1.2,\n",
    "#                                                                             sig22=1.3)\n",
    "ax[0].text(-5, 12, '$\\Sigma$', size=20,color='black')\n",
    "ax[0].text(-1, 12, '{sig11:.2f} & {sig12:.2f} \\\\   {sig21:.2f} & {sig22:.2f}'.format, size=20,color='black')\n",
    "\n",
    "fig.canvas.toolbar_visible = False\n",
    "\n",
    "plt.show()"
   ]
  },
  {
   "cell_type": "code",
   "execution_count": null,
   "metadata": {},
   "outputs": [],
   "source": []
  }
 ],
 "metadata": {
  "kernelspec": {
   "display_name": "Python 3",
   "language": "python",
   "name": "python3"
  },
  "language_info": {
   "codemirror_mode": {
    "name": "ipython",
    "version": 3
   },
   "file_extension": ".py",
   "mimetype": "text/x-python",
   "name": "python",
   "nbconvert_exporter": "python",
   "pygments_lexer": "ipython3",
   "version": "3.8.5"
  }
 },
 "nbformat": 4,
 "nbformat_minor": 4
}
