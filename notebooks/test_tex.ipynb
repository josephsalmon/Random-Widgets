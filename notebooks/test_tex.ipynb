{
 "cells": [
  {
   "cell_type": "code",
   "execution_count": 1,
   "metadata": {},
   "outputs": [],
   "source": [
    "import matplotlib.pyplot as plt\n",
    "import numpy as np\n",
    "from matplotlib import rcParams\n",
    "rcParams['text.usetex'] = True\n",
    "rcParams['text.latex.preamble'] = r'\\usepackage{{amsmath}}'\n",
    "plt.ion()\n",
    "\n"
   ]
  },
  {
   "cell_type": "code",
   "execution_count": 2,
   "metadata": {},
   "outputs": [],
   "source": [
    "%matplotlib widget"
   ]
  },
  {
   "cell_type": "code",
   "execution_count": 3,
   "metadata": {},
   "outputs": [
    {
     "data": {
      "application/vnd.jupyter.widget-view+json": {
       "model_id": "a6f40885b1474532868a08b234d46dbe",
       "version_major": 2,
       "version_minor": 0
      },
      "text/plain": [
       "Canvas(toolbar=Toolbar(toolitems=[('Home', 'Reset original view', 'home', 'home'), ('Back', 'Back to previous …"
      ]
     },
     "metadata": {},
     "output_type": "display_data"
    }
   ],
   "source": [
    "fig, ax = plt.subplots(1, 2, figsize=(6.8, 4.4))\n",
    "\n",
    "\n",
    "x = np.linspace(1,100,10)\n",
    "ax[0].plot(x,x)\n",
    "ax[1].plot(x,x)\n",
    "\n",
    "tex = r\"$\\Sigma = \\begin{{pmatrix}} {sig11:.2f} & {sig12:.2f} \\\\   {sig21:.2f} & {sig22:.2f} \\end{{pmatrix}}$\".format(sig11=1.1,\n",
    "                                                                            sig12=1.2,\n",
    "                                                                            sig21=1.2,\n",
    "                                                                            sig22=1.3)\n",
    "ax[0].text(-5, 12, tex, size=20,color='black')\n",
    "# ax.set_text(tex)    \n",
    "\n",
    "\n",
    "# ax.text(.5, .5, tex, fontsize=30, horizontalalignment='center')\n",
    "ax[0].set_axis_off()\n",
    "plt.show()"
   ]
  },
  {
   "cell_type": "code",
   "execution_count": null,
   "metadata": {},
   "outputs": [],
   "source": []
  }
 ],
 "metadata": {
  "kernelspec": {
   "display_name": "Python 3",
   "language": "python",
   "name": "python3"
  },
  "language_info": {
   "codemirror_mode": {
    "name": "ipython",
    "version": 3
   },
   "file_extension": ".py",
   "mimetype": "text/x-python",
   "name": "python",
   "nbconvert_exporter": "python",
   "pygments_lexer": "ipython3",
   "version": "3.8.5"
  }
 },
 "nbformat": 4,
 "nbformat_minor": 4
}
