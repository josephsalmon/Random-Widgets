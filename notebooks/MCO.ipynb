{
 "cells": [
  {
   "cell_type": "markdown",
   "metadata": {},
   "source": [
    "# HLMA 408: Moindres Carrés Ordinaires\n",
    "\n",
    "***\n",
    "> __Auteur__: Joseph Salmon\n",
    "> <joseph.salmon@umontpellier.fr>"
   ]
  },
  {
   "cell_type": "code",
   "execution_count": 1,
   "metadata": {},
   "outputs": [],
   "source": [
    "import numpy as np\n",
    "import pandas as pd\n",
    "import matplotlib.pyplot as plt\n",
    "from matplotlib import rc\n",
    "from scipy.optimize import lsq_linear\n",
    "\n",
    "# from sklearn import linear_model, preprocessing\n",
    "from mpl_toolkits.mplot3d import Axes3D\n",
    "\n",
    "import ipywidgets as widgets\n",
    "from ipywidgets import interactive\n",
    "from matplotlib.ticker import MaxNLocator"
   ]
  },
  {
   "cell_type": "code",
   "execution_count": 2,
   "metadata": {},
   "outputs": [],
   "source": [
    "# Original url:\n",
    "url = 'https://forge.scilab.org/index.php/p/rdataset/source/file/master/csv/datasets/cars.csv'\n",
    "# Alternative url:\n",
    "# url = 'http://josephsalmon.eu/enseignement/TELECOM/MDI720/datasets/cars.csv'\n",
    "# path_target = \"./cars.csv\"\n",
    "# download(url, path_target, replace=False)"
   ]
  },
  {
   "cell_type": "code",
   "execution_count": 3,
   "metadata": {},
   "outputs": [],
   "source": [
    "%matplotlib widget"
   ]
  },
  {
   "cell_type": "code",
   "execution_count": 4,
   "metadata": {
    "scrolled": true
   },
   "outputs": [],
   "source": [
    "dat = pd.read_csv(url)\n",
    "dat = dat.drop(columns='Unnamed: 0')\n",
    "dat.columns = ['Vitesse (mph)', 'Distance (ft)']\n",
    "\n",
    "# Beware dat['speed'].shape = (50,), issue with sklearn API need (50,1)\n",
    "X = dat[['Vitesse (mph)']]\n",
    "y = dat['Distance (ft)']\n",
    "\n",
    "Xval = X.values.squeeze()\n",
    "\n",
    "\n",
    "# Regression model (with sklearn)\n",
    "# skl_linmod = linear_model.LinearRegression()\n",
    "# skl_linmod.fit(X, y)\n",
    "n_samples, _ = X.shape\n",
    "\n",
    "matrix_constants=np.zeros((n_samples, 2))\n",
    "matrix_constants[:, 0] = np.ones(n_samples)\n",
    "matrix_constants[:, 1] = Xval\n",
    "res_1 = lsq_linear(matrix_constants, y.values)\n",
    "\n",
    "\n",
    "delta_x = Xval.max() - Xval.min()\n",
    "delta_y = y.max() - y.min()\n",
    "\n",
    "xmin_normal = Xval.min() - delta_x * 0.2\n",
    "xmax_normal = Xval.max() + delta_x * 0.2\n",
    "ymin_normal = y.min() - delta_y * 0.5\n",
    "ymax_normal = y.max() + delta_y * 0.2\n",
    "\n",
    "X_to_predict = np.linspace(xmin_normal, xmax_normal, num=50).reshape(50, 1)\n",
    "X_to_predict = pd.DataFrame(X_to_predict, columns=['Vitesse (mph)'])\n",
    "\n",
    "\n",
    "\n",
    "slopes = y / Xval\n",
    "delta_slopes = slopes.max() - slopes.min()\n",
    "n_grid_cplx = 50j\n",
    "n_betas = int(n_grid_cplx.imag)\n",
    "beta_0_grid, beta_1_grid = np.mgrid[ymin_normal:ymax_normal:n_grid_cplx,\n",
    "                                    slopes.min() - 0.2 * delta_slopes:slopes.max() + 0.2 * delta_slopes:n_grid_cplx]\n",
    "\n",
    "betas_1 = np.linspace(slopes.min() - 0.2 * delta_slopes,\n",
    "                      slopes.max() + 0.2 * delta_slopes, n_betas)\n",
    "betas_0 = np.linspace(ymin_normal - 0.2 * delta_y,\n",
    "                      ymax_normal + 0.2 * delta_y, n_betas)"
   ]
  },
  {
   "cell_type": "code",
   "execution_count": 5,
   "metadata": {},
   "outputs": [],
   "source": [
    "beta_mco_0 = res_1.x[0]\n",
    "beta_mco_1 = res_1.x[1]"
   ]
  },
  {
   "cell_type": "code",
   "execution_count": 6,
   "metadata": {},
   "outputs": [],
   "source": [
    "xlabels = dat.columns[0]\n",
    "ylabels = dat.columns[1]"
   ]
  },
  {
   "cell_type": "code",
   "execution_count": 7,
   "metadata": {},
   "outputs": [],
   "source": [
    "def funct_quad(beta_0, beta_1):\n",
    "    \"\"\"Quadratic function to be displayed.\"\"\"\n",
    "    # Compute: np.linalg.norm(y - Xval * beta_1 - beta_0)**2\n",
    "    return np.linalg.norm(y)**2 + n_samples * beta_0**2 + np.linalg.norm(Xval)**2 * beta_1**2 - 2 * np.sum(y) * beta_0 - 2 * np.dot(y, Xval) * beta_1 + 2 * np.sum(Xval) * beta_0 * beta_1\n",
    "\n",
    "\n",
    "Z = funct_quad(beta_0_grid, beta_1_grid)  # to speed up visualization\n",
    "levels = MaxNLocator(nbins=30).tick_values(Z.min(), Z.max())\n",
    "mappable = plt.cm.ScalarMappable(cmap=plt.cm.hot)\n",
    "mappable.set_array(Z)\n",
    "\n",
    "\n",
    "def plotting_level_set(ax, fig, beta_0, beta_1, Z):\n",
    "    \"\"\"Plotting level sets.\"\"\"\n",
    "\n",
    "    cs = ax.contourf(beta_0, beta_1, Z, alpha=.75,\n",
    "                     cmap=plt.cm.hot, levels=levels)\n",
    "    ax.plot(beta_mco_0, beta_mco_1, 'or', ms=12, label=r\"Moindres carrés ordinaires\")\n",
    "    ax.contour(beta_0, beta_1, Z, colors='black',  levels=levels)\n",
    "    cbar = fig.colorbar(cs)"
   ]
  },
  {
   "cell_type": "code",
   "execution_count": 8,
   "metadata": {},
   "outputs": [
    {
     "data": {
      "application/vnd.jupyter.widget-view+json": {
       "model_id": "fde60389cc714bc4b12553cd263b2c88",
       "version_major": 2,
       "version_minor": 0
      },
      "text/plain": [
       "Canvas(toolbar=Toolbar(toolitems=[('Home', 'Reset original view', 'home', 'home'), ('Back', 'Back to previous …"
      ]
     },
     "metadata": {},
     "output_type": "display_data"
    },
    {
     "data": {
      "application/vnd.jupyter.widget-view+json": {
       "model_id": "63372503808d40e1ae4003939b8f3aa3",
       "version_major": 2,
       "version_minor": 0
      },
      "text/plain": [
       "interactive(children=(FloatSlider(value=-19.337004379562046, description='$\\\\beta_0$', max=143.6, min=-57.0), …"
      ]
     },
     "metadata": {},
     "output_type": "display_data"
    }
   ],
   "source": [
    "# def show_MCO_3D(beta_0=-17, beta_1=4, azim=280):\n",
    "beta_0 = -17\n",
    "beta_1 = 4\n",
    "azim = 280\n",
    "y_by_line = beta_0 + beta_1 * X_to_predict\n",
    "\n",
    "fig = plt.figure(\n",
    "    figsize=(9, 9), num='Moindres carrés ordinaires (MCO) et optimisation')\n",
    "\n",
    "fig.canvas.toolbar_visible = False\n",
    "\n",
    "ax1 = fig.add_subplot(2, 2, 1)\n",
    "ax1.set_xlim(left=xmin_normal, right=xmax_normal)\n",
    "ax1.set_ylim(bottom=ymin_normal, top=ymax_normal)\n",
    "\n",
    "ax1.plot(X, y, 'o', label=r'Données',\n",
    "         markeredgecolor='k', markeredgewidth=1)\n",
    "ax1.plot(X_to_predict, beta_mco_0 + X_to_predict * beta_mco_1, \"--\", color='red',\n",
    "         linewidth=2, label=r\"Moindres carrés ordinaires\")\n",
    "ax1_pred, = ax1.plot(X_to_predict, y_by_line,\n",
    "                     linewidth=2, color='k', label=r\"$x \\to \\beta_0 + \\beta_1 x$\")\n",
    "\n",
    "ax1.legend(numpoints=1, loc=2)  # numpoints = 1 for nicer display\n",
    "ax1.set_xlabel(xlabels)\n",
    "ax1.set_ylabel(ylabels)\n",
    "ax1.set_title(r\"Données et moindres carrés\"\n",
    "              #                   + \"\\n\" +\n",
    "              #                   r\"$\\beta_0 = {0:.2f}, \\beta_1 = \\hat\\beta_1 = {1:.2f}$\".format(beta_0, beta_1)\n",
    "              )\n",
    "\n",
    "ax2 = fig.add_subplot(2, 2, 2, projection='3d')\n",
    "ax2.scatter(beta_mco_0, beta_mco_1, 1.1 * np.linalg.norm(y - Xval * beta_mco_1 - beta_mco_0)\n",
    "            ** 2, marker=\"o\", edgecolors='k', s=130, color=\"red\", alpha=1)\n",
    "ax2_scatter_current = ax2.scatter(beta_0, beta_1, 1.1 * np.linalg.norm(y - Xval * beta_1 - beta_0)\n",
    "                                  ** 2, marker=\"v\", edgecolors='k', s=130, color=\"k\", label=r\"$\\beta = (\\beta_0,\\beta_1)$\", alpha=1)\n",
    "ax2.set_title(\"Fonction à minimiser\")\n",
    "ax2.plot_surface(beta_0_grid, beta_1_grid, Z, cmap=mappable.cmap,\n",
    "                 norm=mappable.norm, alpha=0.7, linewidth=0)\n",
    "ax2.view_init(azim=azim, elev=20)\n",
    "ax2.set_xlabel(r\"Ordonnée à l'origine ($\\beta_0$)\")\n",
    "ax2.set_ylabel(r\"Pente ($\\beta_1$)\")\n",
    "\n",
    "ax3 = fig.add_subplot(2, 2, 3)\n",
    "plotting_level_set(ax3, fig, beta_0_grid, beta_1_grid, Z)\n",
    "ax3_pts, = ax3.plot(beta_0, beta_1, 'kv', ms=12,\n",
    "                    label=r\"$x \\to \\beta_0 + \\beta_1 x$\")\n",
    "ax3.set_title(r\"Lignes de niveau de la fonction à minimiser\" +\n",
    "              \"\\n\" + r'$(\\beta_0,\\beta_1) \\to || y-X\\beta_1 -\\beta_0||^2$')\n",
    "ax3.set_xlabel(r\"Ordonnée à l'origine ($\\beta_0$)\")\n",
    "ax3.set_ylabel(r\"Pente ($\\beta_1$)\")\n",
    "ax3.legend(loc=3)\n",
    "fig.tight_layout(pad=0.25, h_pad=0.83, w_pad=0.3)\n",
    "plt.show()\n",
    "\n",
    "\n",
    "def update(beta_0=-17, beta_1=4, azim=280):\n",
    "    y_by_line = beta_0 + beta_1 * X_to_predict\n",
    "    ax1_pred.set_ydata(y_by_line)\n",
    "    ax2_scatter_current._offsets3d = (\n",
    "        [beta_0], [beta_1], [1.1 * np.linalg.norm(y - Xval * beta_1 - beta_0) ** 2])\n",
    "    ax2.view_init(azim=azim, elev=20)\n",
    "    ax3_pts.set_xdata(beta_0)\n",
    "    ax3_pts.set_ydata(beta_1)\n",
    "    fig.canvas.draw()\n",
    "\n",
    "\n",
    "interactive_plot = interactive(update,\n",
    "                               beta_0=widgets.FloatSlider(min=beta_0_grid.min(), max=beta_0_grid.max(),\n",
    "                                                          value=1.1 * beta_mco_0, description=r'$\\beta_0$'),\n",
    "                               beta_1=widgets.FloatSlider(min=beta_1_grid.min(), max=beta_1_grid.max(),\n",
    "                                                          value=1.1 * beta_mco_1, description=r'$\\beta_1$'),\n",
    "                               azim=widgets.IntSlider(min=0, max=360, step=1, value=280, description=r'Azimut'))\n",
    "# output = interactive_plot.children[-1]\n",
    "# output.layout.height = '500px'\n",
    "interactive_plot"
   ]
  },
  {
   "cell_type": "code",
   "execution_count": null,
   "metadata": {},
   "outputs": [],
   "source": []
  }
 ],
 "metadata": {
  "hide_input": false,
  "kernelspec": {
   "display_name": "Python 3",
   "language": "python",
   "name": "python3"
  },
  "language_info": {
   "codemirror_mode": {
    "name": "ipython",
    "version": 3
   },
   "file_extension": ".py",
   "mimetype": "text/x-python",
   "name": "python",
   "nbconvert_exporter": "python",
   "pygments_lexer": "ipython3",
   "version": "3.8.5"
  },
  "toc": {
   "base_numbering": 1,
   "nav_menu": {},
   "number_sections": false,
   "sideBar": true,
   "skip_h1_title": false,
   "title_cell": "Table of Contents",
   "title_sidebar": "Contents",
   "toc_cell": false,
   "toc_position": {},
   "toc_section_display": "block",
   "toc_window_display": true
  },
  "widgets": {
   "state": {
    "03b8d138c711461fba0769045b56bf3d": {
     "views": [
      {
       "cell_index": 8
      }
     ]
    },
    "46d47ba679004ee5a220816ac7900da0": {
     "views": [
      {
       "cell_index": 10
      }
     ]
    },
    "4d6b8c8092b84e1f9942437beb31a037": {
     "views": [
      {
       "cell_index": 16
      }
     ]
    }
   },
   "version": "1.2.0"
  }
 },
 "nbformat": 4,
 "nbformat_minor": 2
}
